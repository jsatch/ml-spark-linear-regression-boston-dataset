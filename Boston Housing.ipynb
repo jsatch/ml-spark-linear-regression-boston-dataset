{
 "cells": [
  {
   "cell_type": "markdown",
   "metadata": {},
   "source": [
    "# Problema de Housing\n",
    "\n",
    "## Caso\n",
    "\n",
    "La ciudad de Boston ha recolectado data para el analisis de los atributos de las viviendas de la ciudad de Boston, en los Estados Unidos de America.\n",
    "\n",
    "El dataset que se le proporciona (llamado housing.data) contiene informacion de las viviendas de la ciudad. Esta informacion se encuentra dividida en columnas que significan lo siguiente:\n",
    "\n",
    "1. CRIM      Ratio per capita de crimen por ciudad.\n",
    "2. ZN        Proporcion de tierra residencial zonificada por lotes\n",
    "3. INDUS     Proporcion de negocios que no son de retail por ciudad (en acres)\n",
    "4. CHAS      Variable si propiedad es limita con rio(= 1 si limita; 0 en otro caso \n",
    "    5. NOX       nitric oxides concentration (parts per 10 million)\n",
    "    6. RM        average number of rooms per dwelling\n",
    "    7. AGE       proportion of owner-occupied units built prior to 1940\n",
    "    8. DIS       weighted distances to five Boston employment centres\n",
    "    9. RAD       index of accessibility to radial highways\n",
    "    10. TAX      full-value property-tax rate per $10,000\n",
    "    11. PTRATIO  pupil-teacher ratio by town\n",
    "    12. B        1000(Bk - 0.63)^2 where Bk is the proportion of blacks \n",
    "                 by town\n",
    "    13. LSTAT    % lower status of the population\n",
    "    14. MEDV     Median value of owner-occupied homes in $1000's"
   ]
  }
 ],
 "metadata": {
  "kernelspec": {
   "display_name": "Python 3",
   "language": "python",
   "name": "python3"
  },
  "language_info": {
   "codemirror_mode": {
    "name": "ipython",
    "version": 3
   },
   "file_extension": ".py",
   "mimetype": "text/x-python",
   "name": "python",
   "nbconvert_exporter": "python",
   "pygments_lexer": "ipython3",
   "version": "3.5.3"
  }
 },
 "nbformat": 4,
 "nbformat_minor": 2
}
